{
 "cells": [
  {
   "cell_type": "markdown",
   "metadata": {},
   "source": [
    "## CROSS VALIDATION"
   ]
  },
  {
   "cell_type": "code",
   "execution_count": 2,
   "metadata": {},
   "outputs": [],
   "source": [
    "#import the necessary libraries\n",
    "import numpy as np\n",
    "import random\n",
    "import pandas as pd\n",
    "import statsmodels.api as stm"
   ]
  },
  {
   "cell_type": "code",
   "execution_count": 3,
   "metadata": {},
   "outputs": [],
   "source": [
    "#read the text file\n",
    "cars=pd.read_csv(r'C:\\Users\\nirup\\Downloads\\cars.csv')"
   ]
  },
  {
   "cell_type": "code",
   "execution_count": 4,
   "metadata": {},
   "outputs": [
    {
     "data": {
      "text/html": [
       "<div>\n",
       "<style scoped>\n",
       "    .dataframe tbody tr th:only-of-type {\n",
       "        vertical-align: middle;\n",
       "    }\n",
       "\n",
       "    .dataframe tbody tr th {\n",
       "        vertical-align: top;\n",
       "    }\n",
       "\n",
       "    .dataframe thead th {\n",
       "        text-align: right;\n",
       "    }\n",
       "</style>\n",
       "<table border=\"1\" class=\"dataframe\">\n",
       "  <thead>\n",
       "    <tr style=\"text-align: right;\">\n",
       "      <th></th>\n",
       "      <th>Car</th>\n",
       "      <th>MPG</th>\n",
       "      <th>Cylinders</th>\n",
       "      <th>Displacement</th>\n",
       "      <th>Horsepower</th>\n",
       "      <th>Weight</th>\n",
       "      <th>Acceleration</th>\n",
       "      <th>Model</th>\n",
       "      <th>Origin</th>\n",
       "    </tr>\n",
       "  </thead>\n",
       "  <tbody>\n",
       "    <tr>\n",
       "      <td>366</td>\n",
       "      <td>Peugeot 505s Turbo Diesel</td>\n",
       "      <td>28.1</td>\n",
       "      <td>4</td>\n",
       "      <td>141.0</td>\n",
       "      <td>80</td>\n",
       "      <td>3230</td>\n",
       "      <td>20.4</td>\n",
       "      <td>81</td>\n",
       "      <td>Europe</td>\n",
       "    </tr>\n",
       "    <tr>\n",
       "      <td>321</td>\n",
       "      <td>Ford Fairmont</td>\n",
       "      <td>26.4</td>\n",
       "      <td>4</td>\n",
       "      <td>140.0</td>\n",
       "      <td>88</td>\n",
       "      <td>2870</td>\n",
       "      <td>18.1</td>\n",
       "      <td>80</td>\n",
       "      <td>US</td>\n",
       "    </tr>\n",
       "    <tr>\n",
       "      <td>353</td>\n",
       "      <td>Subaru</td>\n",
       "      <td>32.3</td>\n",
       "      <td>4</td>\n",
       "      <td>97.0</td>\n",
       "      <td>67</td>\n",
       "      <td>2065</td>\n",
       "      <td>17.8</td>\n",
       "      <td>81</td>\n",
       "      <td>Japan</td>\n",
       "    </tr>\n",
       "    <tr>\n",
       "      <td>354</td>\n",
       "      <td>Datsun 210 MPG</td>\n",
       "      <td>37.0</td>\n",
       "      <td>4</td>\n",
       "      <td>85.0</td>\n",
       "      <td>65</td>\n",
       "      <td>1975</td>\n",
       "      <td>19.4</td>\n",
       "      <td>81</td>\n",
       "      <td>Japan</td>\n",
       "    </tr>\n",
       "    <tr>\n",
       "      <td>381</td>\n",
       "      <td>Ford Fairmont Futura</td>\n",
       "      <td>24.0</td>\n",
       "      <td>4</td>\n",
       "      <td>140.0</td>\n",
       "      <td>92</td>\n",
       "      <td>2865</td>\n",
       "      <td>16.4</td>\n",
       "      <td>82</td>\n",
       "      <td>US</td>\n",
       "    </tr>\n",
       "  </tbody>\n",
       "</table>\n",
       "</div>"
      ],
      "text/plain": [
       "                           Car   MPG  Cylinders  Displacement  Horsepower  \\\n",
       "366  Peugeot 505s Turbo Diesel  28.1          4         141.0          80   \n",
       "321              Ford Fairmont  26.4          4         140.0          88   \n",
       "353                     Subaru  32.3          4          97.0          67   \n",
       "354             Datsun 210 MPG  37.0          4          85.0          65   \n",
       "381       Ford Fairmont Futura  24.0          4         140.0          92   \n",
       "\n",
       "     Weight  Acceleration  Model  Origin  \n",
       "366    3230          20.4     81  Europe  \n",
       "321    2870          18.1     80      US  \n",
       "353    2065          17.8     81   Japan  \n",
       "354    1975          19.4     81   Japan  \n",
       "381    2865          16.4     82      US  "
      ]
     },
     "execution_count": 4,
     "metadata": {},
     "output_type": "execute_result"
    }
   ],
   "source": [
    "#shuffling the data \n",
    "data = cars.sample(len(cars))\n",
    "\n",
    "data.head()"
   ]
  },
  {
   "cell_type": "code",
   "execution_count": 5,
   "metadata": {},
   "outputs": [],
   "source": [
    "#assigning the Xtrain and Ytrain\n",
    "Ytrain=data[\"MPG\"]\n",
    "Xtrain=data[\"Weight\"]"
   ]
  },
  {
   "cell_type": "code",
   "execution_count": 6,
   "metadata": {},
   "outputs": [],
   "source": [
    "def CV(X_train,Y_train,k):                          #function for k-Fold Cross-Validation\n",
    "    N = int(len(X_train)/k)                         #calculating the size for each fold\n",
    "    i=0                                             #intializing i as a counter \n",
    "    while i < k:                                    #looping for k-1 folds\n",
    "\n",
    "        valX = X_train.iloc[N*i:N*i+N]              #validation data split from the X_train\n",
    "        trainX = X_train.iloc[N*i+N:]               #remaining is considered as train data \n",
    "        valY = Y_train.iloc[N*i:N*i+N]              #validation data split from the Y_train\n",
    "        trainY = Y_train.iloc[N*i+N:]               #remaining is considered as train data \n",
    "\n",
    "        X=stm.add_constant(X_train)                 #adding constant to the predictors           \n",
    "        lin=stm.OLS(Y_train,X).fit()                #linear regression on the target and predictors\n",
    "        b=lin.params                                #storing the parameters\n",
    "\n",
    "        Y=b[0]+(b[1]*valX)                          #y_cap calculation\n",
    "        MSE=(np.sum(np.square(valY-Y)))/len(valY)   #mean squared error calculation                             \n",
    "        CV_score=np.mean(MSE)                       #cross validation score calculation\n",
    "\n",
    "        i+=1                                        #increment for each fold k\n",
    "\n",
    "    print(CV_score)                                 #print the cv_score"
   ]
  },
  {
   "cell_type": "code",
   "execution_count": 7,
   "metadata": {},
   "outputs": [
    {
     "name": "stderr",
     "output_type": "stream",
     "text": [
      "C:\\Users\\nirup\\Anaconda3\\lib\\site-packages\\numpy\\core\\fromnumeric.py:2389: FutureWarning: Method .ptp is deprecated and will be removed in a future version. Use numpy.ptp instead.\n",
      "  return ptp(axis=axis, out=out, **kwargs)\n"
     ]
    },
    {
     "name": "stdout",
     "output_type": "stream",
     "text": [
      "14.714163291159768\n"
     ]
    }
   ],
   "source": [
    "CV(Xtrain,Ytrain,15)                                #function call for cross_validation of 15 folds"
   ]
  },
  {
   "cell_type": "code",
   "execution_count": null,
   "metadata": {},
   "outputs": [],
   "source": []
  }
 ],
 "metadata": {
  "kernelspec": {
   "display_name": "Python 3",
   "language": "python",
   "name": "python3"
  },
  "language_info": {
   "codemirror_mode": {
    "name": "ipython",
    "version": 3
   },
   "file_extension": ".py",
   "mimetype": "text/x-python",
   "name": "python",
   "nbconvert_exporter": "python",
   "pygments_lexer": "ipython3",
   "version": "3.7.4"
  }
 },
 "nbformat": 4,
 "nbformat_minor": 5
}
